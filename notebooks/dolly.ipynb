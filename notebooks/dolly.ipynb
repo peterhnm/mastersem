{
 "cells": [
  {
   "cell_type": "code",
   "outputs": [],
   "source": [
    "from datasets import load_dataset\n",
    "\n",
    "dataset = load_dataset(\"databricks/databricks-dolly-15k\")"
   ],
   "metadata": {
    "collapsed": false,
    "ExecuteTime": {
     "end_time": "2024-01-22T10:14:25.643466Z",
     "start_time": "2024-01-22T10:14:20.675575Z"
    }
   },
   "id": "6dc21fe64762959e",
   "execution_count": 1
  },
  {
   "cell_type": "code",
   "outputs": [],
   "source": [
    "from collections import Counter"
   ],
   "metadata": {
    "collapsed": false,
    "ExecuteTime": {
     "end_time": "2024-01-22T10:14:26.760322Z",
     "start_time": "2024-01-22T10:14:26.740985Z"
    }
   },
   "id": "80e86cc082444d61",
   "execution_count": 2
  },
  {
   "cell_type": "code",
   "outputs": [
    {
     "data": {
      "text/plain": "Counter({'closed_qa': 1773,\n         'classification': 2136,\n         'open_qa': 3742,\n         'information_extraction': 1506,\n         'brainstorming': 1766,\n         'general_qa': 2191,\n         'summarization': 1188,\n         'creative_writing': 709})"
     },
     "execution_count": 3,
     "metadata": {},
     "output_type": "execute_result"
    }
   ],
   "source": [
    "Counter(dataset['train']['category'])"
   ],
   "metadata": {
    "collapsed": false,
    "ExecuteTime": {
     "end_time": "2024-01-22T10:14:27.305117Z",
     "start_time": "2024-01-22T10:14:27.293281Z"
    }
   },
   "id": "72da9f7fe0b7b1c5",
   "execution_count": 3
  },
  {
   "cell_type": "code",
   "outputs": [
    {
     "data": {
      "text/plain": "228"
     },
     "execution_count": 16,
     "metadata": {},
     "output_type": "execute_result"
    }
   ],
   "source": [
    "counter = 0\n",
    "for i in dataset['train']['instruction']:\n",
    "    if \"Identify which instrument is string or percussion\" in i:\n",
    "        counter += 1\n",
    "    \n",
    "counter"
   ],
   "metadata": {
    "collapsed": false,
    "ExecuteTime": {
     "end_time": "2024-01-22T13:29:21.347960Z",
     "start_time": "2024-01-22T13:29:21.300050Z"
    }
   },
   "id": "214dcce5ad31a376",
   "execution_count": 16
  },
  {
   "cell_type": "code",
   "outputs": [
    {
     "data": {
      "text/plain": "DatasetDict({\n    train: Dataset({\n        features: ['instruction', 'context', 'response', 'category'],\n        num_rows: 15011\n    })\n})"
     },
     "execution_count": 4,
     "metadata": {},
     "output_type": "execute_result"
    }
   ],
   "source": [
    "dataset"
   ],
   "metadata": {
    "collapsed": false,
    "ExecuteTime": {
     "end_time": "2024-01-22T10:14:41.636234Z",
     "start_time": "2024-01-22T10:14:41.611315Z"
    }
   },
   "id": "2f3a286721fd5f80",
   "execution_count": 4
  },
  {
   "cell_type": "code",
   "outputs": [
    {
     "data": {
      "text/plain": "['When did Virgin Australia start operating?',\n 'Which is a species of fish? Tope or Rope']"
     },
     "execution_count": 7,
     "metadata": {},
     "output_type": "execute_result"
    }
   ],
   "source": [
    "instructions = dataset['train']['instruction']\n",
    "instructions[0:2]"
   ],
   "metadata": {
    "collapsed": false,
    "ExecuteTime": {
     "end_time": "2024-01-22T10:15:30.155512Z",
     "start_time": "2024-01-22T10:15:30.130919Z"
    }
   },
   "id": "65e1dbd1c5147b1",
   "execution_count": 7
  },
  {
   "cell_type": "code",
   "outputs": [
    {
     "data": {
      "text/plain": "185301"
     },
     "execution_count": 13,
     "metadata": {},
     "output_type": "execute_result"
    }
   ],
   "source": [
    "total_length = 0\n",
    "for i in instructions:\n",
    "    total_length += len(i.split(\" \"))\n",
    "total_length"
   ],
   "metadata": {
    "collapsed": false,
    "ExecuteTime": {
     "end_time": "2024-01-22T10:19:29.179312Z",
     "start_time": "2024-01-22T10:19:29.153247Z"
    }
   },
   "id": "f5f8c52e73e6e9a7",
   "execution_count": 13
  },
  {
   "cell_type": "code",
   "outputs": [
    {
     "data": {
      "text/plain": "15011"
     },
     "execution_count": 14,
     "metadata": {},
     "output_type": "execute_result"
    }
   ],
   "source": [
    "num_of_instructions = len(instructions)\n",
    "num_of_instructions"
   ],
   "metadata": {
    "collapsed": false,
    "ExecuteTime": {
     "end_time": "2024-01-22T10:19:31.589859Z",
     "start_time": "2024-01-22T10:19:31.583717Z"
    }
   },
   "id": "3716f70cf5e6f358",
   "execution_count": 14
  },
  {
   "cell_type": "code",
   "outputs": [
    {
     "data": {
      "text/plain": "12.344347478515756"
     },
     "execution_count": 15,
     "metadata": {},
     "output_type": "execute_result"
    }
   ],
   "source": [
    "total_length / num_of_instructions"
   ],
   "metadata": {
    "collapsed": false,
    "ExecuteTime": {
     "end_time": "2024-01-22T10:19:33.324302Z",
     "start_time": "2024-01-22T10:19:33.318989Z"
    }
   },
   "id": "fcecf5991f8ef009",
   "execution_count": 15
  }
 ],
 "metadata": {
  "kernelspec": {
   "display_name": "Python 3",
   "language": "python",
   "name": "python3"
  },
  "language_info": {
   "codemirror_mode": {
    "name": "ipython",
    "version": 2
   },
   "file_extension": ".py",
   "mimetype": "text/x-python",
   "name": "python",
   "nbconvert_exporter": "python",
   "pygments_lexer": "ipython2",
   "version": "2.7.6"
  }
 },
 "nbformat": 4,
 "nbformat_minor": 5
}

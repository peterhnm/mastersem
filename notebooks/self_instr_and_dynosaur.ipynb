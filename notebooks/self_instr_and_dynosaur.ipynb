{
 "cells": [
  {
   "cell_type": "code",
   "execution_count": 8,
   "id": "initial_id",
   "metadata": {
    "collapsed": true,
    "ExecuteTime": {
     "end_time": "2024-01-24T09:02:37.449377Z",
     "start_time": "2024-01-24T09:02:36.630775Z"
    }
   },
   "outputs": [],
   "source": [
    "import os\n",
    "\n",
    "import openai\n",
    "from dotenv import load_dotenv, find_dotenv\n",
    "\n",
    "_ = load_dotenv(find_dotenv())  # read local .env file\n",
    "\n",
    "openai.api_key = os.getenv('OPENAI_API_KEY')\n",
    "\n",
    "schema = {\n",
    "    \"title\": \"Template\",\n",
    "    \"description\": \"The properties of the result.\",\n",
    "    \"required\": [\"result\"],\n",
    "    \"type\": \"object\",\n",
    "    \"properties\": {\n",
    "        \"result\": {\n",
    "            \"type\": \"array\",\n",
    "            \"items\": {\n",
    "                \"type\": \"object\",\n",
    "                \"required\": [\"nlptask\", \"numberOfPrompts\"],\n",
    "                \"properties\": {\n",
    "                    \"nlptask\": {\n",
    "                        \"type\": \"string\",\n",
    "                        \"description\": \"The category of the NLP task\",\n",
    "                    },\n",
    "                    \"numberOfPrompts\": {\n",
    "                        \"type\": \"integer\",\n",
    "                        \"description\": \"The number of instructions that were classified as the NLP task category\",\n",
    "                    },\n",
    "                }\n",
    "            }\n",
    "        }\n",
    "    }\n",
    "}\n",
    "\n",
    "def get_completion(prompt, model=\"gpt-3.5-turbo\"):\n",
    "    messages = [\n",
    "        {\"role\": \"system\", \"content\": \"Classify the given instructions according to a NLP tasks category.\"},\n",
    "        {\"role\": \"user\", \"content\": prompt}\n",
    "    ]\n",
    "    functions = [\n",
    "        {\"name\": \"classify_prompts\", \"parameters\": schema}\n",
    "    ]\n",
    "    function_call = {\n",
    "        \"name\": \"classify_prompts\",\n",
    "    }\n",
    "    response = openai.chat.completions.create(\n",
    "        model=model,\n",
    "        messages=messages,\n",
    "        functions=functions,\n",
    "        function_call=function_call,\n",
    "        temperature=0,  # this is the degree of randomness of the model's output\\n\",\n",
    "    )\n",
    "    return response.choices[0].message.function_call.arguments\n"
   ]
  },
  {
   "cell_type": "markdown",
   "source": [
    "## Read json files"
   ],
   "metadata": {
    "collapsed": false
   },
   "id": "4c113c052948dd17"
  },
  {
   "cell_type": "code",
   "outputs": [],
   "source": [
    "import json\n",
    "\n",
    "self_instruct = open(\"../data/self_instruct/all_instances_82K.json\")\n",
    "dynosaur = open(\"../data/dynosaur/instructions-full.json\")\n",
    "\n",
    "self_instruct_all_instructions = json.load(self_instruct)\n",
    "dynosaur_all_instructions = json.load(dynosaur)"
   ],
   "metadata": {
    "collapsed": false,
    "ExecuteTime": {
     "end_time": "2024-01-24T09:43:58.913196Z",
     "start_time": "2024-01-24T09:43:58.513034Z"
    }
   },
   "id": "1b4f6d08dbc826af",
   "execution_count": 24
  },
  {
   "cell_type": "code",
   "outputs": [
    {
     "name": "stdout",
     "output_type": "stream",
     "text": [
      "\n",
      "Self Instruct: 82439\n",
      "Dynosaur: 5740\n"
     ]
    }
   ],
   "source": [
    "print(f\"\"\"\n",
    "Self Instruct: {len(self_instruct_all_instructions)}\n",
    "Dynosaur: {len(dynosaur_all_instructions)}\n",
    "\"\"\")"
   ],
   "metadata": {
    "collapsed": false,
    "ExecuteTime": {
     "end_time": "2024-01-24T09:44:00.161981Z",
     "start_time": "2024-01-24T09:44:00.158548Z"
    }
   },
   "id": "60661252f773fd33",
   "execution_count": 25
  },
  {
   "cell_type": "code",
   "outputs": [],
   "source": [
    "import random\n",
    "\n",
    "self_instruct_random_instructions = random.choices(self_instruct_all_instructions, k=200)\n",
    "dynosaur_random_instructions = random.choices(dynosaur_all_instructions, k=200)"
   ],
   "metadata": {
    "collapsed": false,
    "ExecuteTime": {
     "end_time": "2024-01-24T09:44:08.127901Z",
     "start_time": "2024-01-24T09:44:08.124476Z"
    }
   },
   "id": "719f60c0dda176b4",
   "execution_count": 26
  },
  {
   "cell_type": "code",
   "outputs": [
    {
     "name": "stdout",
     "output_type": "stream",
     "text": [
      "\n",
      "Self Instruct: 200\n",
      "['Read in a number of words, and output their frequency. output one word per line, with the most frequent word first.', 'List three benefits of running.']\n",
      "Dynosaur: 200\n",
      "['Given a code snippet, identify the size of the code.', 'Given a woodworking machine, determine if it can be made to run on a single-phase 240V, 20A circuit and what is involved in doing so.']\n"
     ]
    }
   ],
   "source": [
    "self_instruct_instructions = [instruction[\"instruction\"] for instruction in self_instruct_random_instructions]\n",
    "dynosaur_instructions = [instruction[\"instruction\"] for instruction in dynosaur_random_instructions]\n",
    "\n",
    "print(f\"\"\"\n",
    "Self Instruct: {len(self_instruct_instructions)}\\n{self_instruct_instructions[0:2]}\n",
    "Dynosaur: {len(dynosaur_instructions)}\\n{dynosaur_instructions[0:2]}\n",
    "\"\"\")"
   ],
   "metadata": {
    "collapsed": false,
    "ExecuteTime": {
     "end_time": "2024-01-24T09:45:32.338539Z",
     "start_time": "2024-01-24T09:45:32.306772Z"
    }
   },
   "id": "d37fe9e1993fb21c",
   "execution_count": 29
  },
  {
   "cell_type": "markdown",
   "source": [
    "## Categorize"
   ],
   "metadata": {
    "collapsed": false
   },
   "id": "fe502de2f22c7bd7"
  },
  {
   "cell_type": "code",
   "outputs": [
    {
     "data": {
      "text/plain": "[{'result': [{'nlptask': 'Text Classification', 'numberOfPrompts': 1}]},\n {'result': [{'nlptask': 'Text Generation', 'numberOfPrompts': 1}]}]"
     },
     "execution_count": 30,
     "metadata": {},
     "output_type": "execute_result"
    }
   ],
   "source": [
    "# Self Instruct\n",
    "self_instruct_results = []\n",
    "for instruction in self_instruct_instructions:\n",
    "    prompt = f\"\"\"The instruction is delimited by triple backticks.\n",
    "\n",
    "```\n",
    "{instruction}\n",
    "```\n",
    "\"\"\"\n",
    "\n",
    "    self_instruct_results.append(json.loads(get_completion(prompt, model=\"gpt-4\")))\n",
    "\n",
    "self_instruct_results[0:2]"
   ],
   "metadata": {
    "collapsed": false,
    "ExecuteTime": {
     "end_time": "2024-01-24T09:59:03.803635Z",
     "start_time": "2024-01-24T09:45:40.787337Z"
    }
   },
   "id": "435902103340e8b7",
   "execution_count": 30
  },
  {
   "cell_type": "code",
   "outputs": [],
   "source": [
    "# Dynosaur\n",
    "dynosaur_results = []\n",
    "for instruction in dynosaur_instructions:\n",
    "    prompt = f\"\"\"The instruction is delimited by triple backticks.\n",
    "\n",
    "```\n",
    "{instruction}\n",
    "```\n",
    "\"\"\"\n",
    "    \n",
    "    dynosaur_results.append(json.loads(get_completion(prompt, model=\"gpt-4\")))\n",
    "    \n",
    "dynosaur_results[0:2]"
   ],
   "metadata": {
    "collapsed": false
   },
   "id": "3f53093d827242db",
   "execution_count": null
  },
  {
   "cell_type": "markdown",
   "source": [
    "## Sort"
   ],
   "metadata": {
    "collapsed": false
   },
   "id": "ca290d984b6eb1f3"
  },
  {
   "cell_type": "code",
   "outputs": [
    {
     "name": "stdout",
     "output_type": "stream",
     "text": [
      "\n",
      "Self Instruct: ['Text Classification', 'Text Generation']\n",
      "Dynosaur: ['Question Answering', 'Question Answering']\n"
     ]
    }
   ],
   "source": [
    "self_instruct_categories = [item[\"result\"][0][\"nlptask\"] for item in self_instruct_results]\n",
    "dynosaur_categories = [item[\"result\"][0][\"nlptask\"] for item in dynosaur_results]\n",
    "\n",
    "print(f\"\"\"\n",
    "Self Instruct: {self_instruct_categories[0:2]}\n",
    "Dynosaur: {dynosaur_categories[0:2]}\n",
    "\"\"\")"
   ],
   "metadata": {
    "collapsed": false,
    "ExecuteTime": {
     "end_time": "2024-01-24T10:04:41.740950Z",
     "start_time": "2024-01-24T10:04:41.735238Z"
    }
   },
   "id": "aedc8c7d1bbc6317",
   "execution_count": 32
  },
  {
   "cell_type": "code",
   "outputs": [
    {
     "name": "stdout",
     "output_type": "stream",
     "text": [
      "\n",
      "Self Instruct: [('Text Generation', 42), ('Question Answering', 34), ('Text Classification', 31), ('Sentiment Analysis', 22), ('Information Extraction', 20), ('Text Analysis', 6), ('Not an NLP task', 4), ('Not a NLP task', 4)]\n",
      "Dynosaur: [('Information Extraction', 39), ('Question Answering', 37), ('Text Classification', 27), ('Text Generation', 24), ('Question Generation', 18), ('Natural Language Inference', 6), ('Sentiment Analysis', 6), ('Code Understanding', 5)]\n"
     ]
    }
   ],
   "source": [
    "from collections import Counter\n",
    "\n",
    "self_instruct_sorted = Counter(self_instruct_categories)\n",
    "dynosaur_sorted = Counter(dynosaur_categories)\n",
    "\n",
    "print(f\"\"\"\n",
    "Self Instruct: {self_instruct_sorted.most_common()[0:8]}\n",
    "Dynosaur: {dynosaur_sorted.most_common()[0:8]}\n",
    "\"\"\")\n"
   ],
   "metadata": {
    "collapsed": false,
    "ExecuteTime": {
     "end_time": "2024-01-24T10:04:46.141091Z",
     "start_time": "2024-01-24T10:04:46.135476Z"
    }
   },
   "id": "36ef516b1b0461f8",
   "execution_count": 33
  },
  {
   "cell_type": "code",
   "outputs": [
    {
     "data": {
      "text/plain": "[('Text Generation', 42),\n ('Question Answering', 34),\n ('Text Classification', 31),\n ('Sentiment Analysis', 22),\n ('Information Extraction', 20),\n ('Text Analysis', 6),\n ('Not an NLP task', 4),\n ('Not a NLP task', 4),\n ('Semantic Similarity', 2),\n ('Machine Translation', 2),\n ('Text Transformation', 2),\n ('Non-NLP Task', 2),\n ('Language Identification', 2),\n ('Text Summarization', 2),\n ('Text Completion', 2),\n ('Sentence Classification', 1),\n ('Mathematical Reasoning', 1),\n ('Programming', 1),\n ('Grammar Check', 1),\n ('None', 1),\n ('Not applicable', 1),\n ('Tokenization', 1),\n ('Fact Checking', 1),\n ('Text Cleaning', 1),\n ('Task-oriented dialogue systems', 1),\n ('Machine Translation Evaluation', 1),\n ('Text Similarity', 1),\n ('Text Processing', 1),\n ('Spell Checking', 1),\n ('string matching', 1),\n ('Question Generation', 1),\n ('Math Word Problems', 1),\n ('Information Retrieval', 1),\n ('Code Understanding', 1),\n ('Named Entity Recognition', 1),\n ('Speech Recognition', 1),\n ('Word Generation', 1),\n ('Translation', 1)]"
     },
     "execution_count": 34,
     "metadata": {},
     "output_type": "execute_result"
    }
   ],
   "source": [
    "self_instruct_sorted.most_common()"
   ],
   "metadata": {
    "collapsed": false,
    "ExecuteTime": {
     "end_time": "2024-01-24T10:07:03.889573Z",
     "start_time": "2024-01-24T10:07:03.865353Z"
    }
   },
   "id": "d0238b5ae7db0203",
   "execution_count": 34
  },
  {
   "cell_type": "code",
   "outputs": [],
   "source": [],
   "metadata": {
    "collapsed": false
   },
   "id": "64e1c9175a210878"
  }
 ],
 "metadata": {
  "kernelspec": {
   "display_name": "Python 3",
   "language": "python",
   "name": "python3"
  },
  "language_info": {
   "codemirror_mode": {
    "name": "ipython",
    "version": 2
   },
   "file_extension": ".py",
   "mimetype": "text/x-python",
   "name": "python",
   "nbconvert_exporter": "python",
   "pygments_lexer": "ipython2",
   "version": "2.7.6"
  }
 },
 "nbformat": 4,
 "nbformat_minor": 5
}
